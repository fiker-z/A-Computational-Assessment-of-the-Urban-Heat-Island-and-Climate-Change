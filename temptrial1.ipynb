{
 "cells": [
  {
   "cell_type": "code",
   "execution_count": 1,
   "metadata": {
    "scrolled": false
   },
   "outputs": [
    {
     "ename": "FileNotFoundError",
     "evalue": "[Errno 2] No such file or directory: 'tmax_2012.csv'",
     "output_type": "error",
     "traceback": [
      "\u001b[0;31m---------------------------------------------------------------------------\u001b[0m",
      "\u001b[0;31mFileNotFoundError\u001b[0m                         Traceback (most recent call last)",
      "\u001b[0;32m<ipython-input-1-218fd0c26309>\u001b[0m in \u001b[0;36m<module>\u001b[0;34m\u001b[0m\n\u001b[1;32m      1\u001b[0m \u001b[0;32mimport\u001b[0m \u001b[0mcsv\u001b[0m\u001b[0;34m\u001b[0m\u001b[0;34m\u001b[0m\u001b[0m\n\u001b[1;32m      2\u001b[0m \u001b[0;34m\u001b[0m\u001b[0m\n\u001b[0;32m----> 3\u001b[0;31m \u001b[0;32mwith\u001b[0m \u001b[0mopen\u001b[0m\u001b[0;34m(\u001b[0m\u001b[0;34m'tmax_2012.csv'\u001b[0m\u001b[0;34m,\u001b[0m \u001b[0;34m'r'\u001b[0m\u001b[0;34m)\u001b[0m \u001b[0;32mas\u001b[0m \u001b[0mtempfile\u001b[0m\u001b[0;34m:\u001b[0m\u001b[0;34m\u001b[0m\u001b[0;34m\u001b[0m\u001b[0m\n\u001b[0m\u001b[1;32m      4\u001b[0m     \u001b[0mcsv_reader\u001b[0m \u001b[0;34m=\u001b[0m \u001b[0mcsv\u001b[0m\u001b[0;34m.\u001b[0m\u001b[0mreader\u001b[0m\u001b[0;34m(\u001b[0m\u001b[0mtempfile\u001b[0m\u001b[0;34m)\u001b[0m\u001b[0;34m\u001b[0m\u001b[0;34m\u001b[0m\u001b[0m\n\u001b[1;32m      5\u001b[0m \u001b[0;34m\u001b[0m\u001b[0m\n",
      "\u001b[0;31mFileNotFoundError\u001b[0m: [Errno 2] No such file or directory: 'tmax_2012.csv'"
     ]
    }
   ],
   "source": [
    "import csv\n",
    "\n",
    "with open('tmax_2012.csv', 'r') as tempfile:\n",
    "    csv_reader = csv.reader(tempfile)\n",
    "\n",
    "    #with open('new_tempfile.csv', 'w') as new_file:\n"
   ]
  },
  {
   "cell_type": "code",
   "execution_count": 1,
   "metadata": {
    "scrolled": true
   },
   "outputs": [
    {
     "ename": "SyntaxError",
     "evalue": "unexpected EOF while parsing (<ipython-input-1-34adca2e7996>, line 2)",
     "output_type": "error",
     "traceback": [
      "\u001b[0;36m  File \u001b[0;32m\"<ipython-input-1-34adca2e7996>\"\u001b[0;36m, line \u001b[0;32m2\u001b[0m\n\u001b[0;31m    with open('tmax_2012.csv', 'r') as tempfile:\u001b[0m\n\u001b[0m                                                ^\u001b[0m\n\u001b[0;31mSyntaxError\u001b[0m\u001b[0;31m:\u001b[0m unexpected EOF while parsing\n"
     ]
    }
   ],
   "source": [
    "import csv\n",
    "with open('tmax_2012.csv', 'r') as tempfile:"
   ]
  },
  {
   "cell_type": "code",
   "execution_count": 4,
   "metadata": {},
   "outputs": [
    {
     "ename": "FileNotFoundError",
     "evalue": "[Errno 2] No such file or directory: 'tmax_2012.csv'",
     "output_type": "error",
     "traceback": [
      "\u001b[0;31m---------------------------------------------------------------------------\u001b[0m",
      "\u001b[0;31mFileNotFoundError\u001b[0m                         Traceback (most recent call last)",
      "\u001b[0;32m<ipython-input-4-b30270fdceb4>\u001b[0m in \u001b[0;36m<module>\u001b[0;34m\u001b[0m\n\u001b[1;32m      1\u001b[0m \u001b[0;32mimport\u001b[0m \u001b[0mcsv\u001b[0m\u001b[0;34m\u001b[0m\u001b[0;34m\u001b[0m\u001b[0m\n\u001b[0;32m----> 2\u001b[0;31m \u001b[0;32mwith\u001b[0m \u001b[0mopen\u001b[0m\u001b[0;34m(\u001b[0m\u001b[0;34m'tmax_2012.csv'\u001b[0m\u001b[0;34m,\u001b[0m \u001b[0;34m'r'\u001b[0m\u001b[0;34m)\u001b[0m \u001b[0;32mas\u001b[0m \u001b[0mtempfile\u001b[0m\u001b[0;34m:\u001b[0m\u001b[0;34m\u001b[0m\u001b[0;34m\u001b[0m\u001b[0m\n\u001b[0m\u001b[1;32m      3\u001b[0m     \u001b[0mcsvreader\u001b[0m \u001b[0;34m=\u001b[0m \u001b[0mcsv\u001b[0m\u001b[0;34m.\u001b[0m\u001b[0mreader\u001b[0m\u001b[0;34m(\u001b[0m\u001b[0mtempfile\u001b[0m\u001b[0;34m)\u001b[0m\u001b[0;34m\u001b[0m\u001b[0;34m\u001b[0m\u001b[0m\n\u001b[1;32m      4\u001b[0m \u001b[0;34m\u001b[0m\u001b[0m\n\u001b[1;32m      5\u001b[0m     \u001b[0;32mfor\u001b[0m \u001b[0mline\u001b[0m \u001b[0;32min\u001b[0m \u001b[0mtempfile\u001b[0m\u001b[0;34m:\u001b[0m\u001b[0;34m\u001b[0m\u001b[0;34m\u001b[0m\u001b[0m\n",
      "\u001b[0;31mFileNotFoundError\u001b[0m: [Errno 2] No such file or directory: 'tmax_2012.csv'"
     ]
    }
   ],
   "source": []
  },
  {
   "cell_type": "code",
   "execution_count": 5,
   "metadata": {},
   "outputs": [
    {
     "data": {
      "text/plain": [
       "'/Users/fiker/Desktop/sci research'"
      ]
     },
     "execution_count": 5,
     "metadata": {},
     "output_type": "execute_result"
    }
   ],
   "source": [
    "pwd"
   ]
  },
  {
   "cell_type": "code",
   "execution_count": 6,
   "metadata": {},
   "outputs": [
    {
     "ename": "SyntaxError",
     "evalue": "unexpected EOF while parsing (<ipython-input-6-34adca2e7996>, line 2)",
     "output_type": "error",
     "traceback": [
      "\u001b[0;36m  File \u001b[0;32m\"<ipython-input-6-34adca2e7996>\"\u001b[0;36m, line \u001b[0;32m2\u001b[0m\n\u001b[0;31m    with open('tmax_2012.csv', 'r') as tempfile:\u001b[0m\n\u001b[0m                                                ^\u001b[0m\n\u001b[0;31mSyntaxError\u001b[0m\u001b[0;31m:\u001b[0m unexpected EOF while parsing\n"
     ]
    }
   ],
   "source": [
    "import csv\n",
    "with open('tmax_2012.csv', 'r') as tempfile:"
   ]
  },
  {
   "cell_type": "code",
   "execution_count": 7,
   "metadata": {},
   "outputs": [
    {
     "ename": "FileNotFoundError",
     "evalue": "[Errno 2] No such file or directory: 'tmax_2012.csv'",
     "output_type": "error",
     "traceback": [
      "\u001b[0;31m---------------------------------------------------------------------------\u001b[0m",
      "\u001b[0;31mFileNotFoundError\u001b[0m                         Traceback (most recent call last)",
      "\u001b[0;32m<ipython-input-7-6769027e3345>\u001b[0m in \u001b[0;36m<module>\u001b[0;34m\u001b[0m\n\u001b[1;32m      1\u001b[0m \u001b[0;32mimport\u001b[0m \u001b[0mcsv\u001b[0m\u001b[0;34m\u001b[0m\u001b[0;34m\u001b[0m\u001b[0m\n\u001b[1;32m      2\u001b[0m \u001b[0;34m\u001b[0m\u001b[0m\n\u001b[0;32m----> 3\u001b[0;31m \u001b[0;32mwith\u001b[0m \u001b[0mopen\u001b[0m\u001b[0;34m(\u001b[0m\u001b[0;34m'tmax_2012.csv'\u001b[0m\u001b[0;34m,\u001b[0m \u001b[0;34m'r'\u001b[0m\u001b[0;34m)\u001b[0m \u001b[0;32mas\u001b[0m \u001b[0mtempfile\u001b[0m\u001b[0;34m:\u001b[0m\u001b[0;34m\u001b[0m\u001b[0;34m\u001b[0m\u001b[0m\n\u001b[0m\u001b[1;32m      4\u001b[0m     \u001b[0mcsv_reader\u001b[0m \u001b[0;34m=\u001b[0m \u001b[0mcsv\u001b[0m\u001b[0;34m.\u001b[0m\u001b[0mreader\u001b[0m\u001b[0;34m(\u001b[0m\u001b[0mtempfile\u001b[0m\u001b[0;34m)\u001b[0m\u001b[0;34m\u001b[0m\u001b[0;34m\u001b[0m\u001b[0m\n\u001b[1;32m      5\u001b[0m \u001b[0;32mfor\u001b[0m \u001b[0mline\u001b[0m \u001b[0;32min\u001b[0m \u001b[0mtempfile\u001b[0m\u001b[0;34m:\u001b[0m\u001b[0;34m\u001b[0m\u001b[0;34m\u001b[0m\u001b[0m\n",
      "\u001b[0;31mFileNotFoundError\u001b[0m: [Errno 2] No such file or directory: 'tmax_2012.csv'"
     ]
    }
   ],
   "source": [
    "import csv\n",
    "\n",
    "with open('tmax_2012.csv', 'r') as tempfile:\n",
    "    csv_reader = csv.reader(tempfile)\n",
    "for line in tempfile:\n",
    "    print(line)"
   ]
  },
  {
   "cell_type": "code",
   "execution_count": 9,
   "metadata": {},
   "outputs": [
    {
     "ename": "FileNotFoundError",
     "evalue": "[Errno 2] No such file or directory: 'tmax_2012.csv'",
     "output_type": "error",
     "traceback": [
      "\u001b[0;31m---------------------------------------------------------------------------\u001b[0m",
      "\u001b[0;31mFileNotFoundError\u001b[0m                         Traceback (most recent call last)",
      "\u001b[0;32m<ipython-input-9-6769027e3345>\u001b[0m in \u001b[0;36m<module>\u001b[0;34m\u001b[0m\n\u001b[1;32m      1\u001b[0m \u001b[0;32mimport\u001b[0m \u001b[0mcsv\u001b[0m\u001b[0;34m\u001b[0m\u001b[0;34m\u001b[0m\u001b[0m\n\u001b[1;32m      2\u001b[0m \u001b[0;34m\u001b[0m\u001b[0m\n\u001b[0;32m----> 3\u001b[0;31m \u001b[0;32mwith\u001b[0m \u001b[0mopen\u001b[0m\u001b[0;34m(\u001b[0m\u001b[0;34m'tmax_2012.csv'\u001b[0m\u001b[0;34m,\u001b[0m \u001b[0;34m'r'\u001b[0m\u001b[0;34m)\u001b[0m \u001b[0;32mas\u001b[0m \u001b[0mtempfile\u001b[0m\u001b[0;34m:\u001b[0m\u001b[0;34m\u001b[0m\u001b[0;34m\u001b[0m\u001b[0m\n\u001b[0m\u001b[1;32m      4\u001b[0m     \u001b[0mcsv_reader\u001b[0m \u001b[0;34m=\u001b[0m \u001b[0mcsv\u001b[0m\u001b[0;34m.\u001b[0m\u001b[0mreader\u001b[0m\u001b[0;34m(\u001b[0m\u001b[0mtempfile\u001b[0m\u001b[0;34m)\u001b[0m\u001b[0;34m\u001b[0m\u001b[0;34m\u001b[0m\u001b[0m\n\u001b[1;32m      5\u001b[0m \u001b[0;32mfor\u001b[0m \u001b[0mline\u001b[0m \u001b[0;32min\u001b[0m \u001b[0mtempfile\u001b[0m\u001b[0;34m:\u001b[0m\u001b[0;34m\u001b[0m\u001b[0;34m\u001b[0m\u001b[0m\n",
      "\u001b[0;31mFileNotFoundError\u001b[0m: [Errno 2] No such file or directory: 'tmax_2012.csv'"
     ]
    }
   ],
   "source": [
    "import csv\n",
    "\n",
    "with open('tmax_2012.csv', 'r') as tempfile:\n",
    "    csv_reader = csv.reader(tempfile)\n",
    "for line in tempfile:\n",
    "    print(line)"
   ]
  },
  {
   "cell_type": "code",
   "execution_count": 10,
   "metadata": {},
   "outputs": [],
   "source": [
    "import numpy as np"
   ]
  },
  {
   "cell_type": "code",
   "execution_count": 11,
   "metadata": {},
   "outputs": [],
   "source": [
    "filename = \"tmax_2012.csv\""
   ]
  },
  {
   "cell_type": "code",
   "execution_count": 13,
   "metadata": {},
   "outputs": [],
   "source": [
    "filename = \"tmax_2012.csv\""
   ]
  },
  {
   "cell_type": "code",
   "execution_count": 14,
   "metadata": {},
   "outputs": [],
   "source": [
    "filename = \"tmax_2012c.csv\""
   ]
  },
  {
   "cell_type": "code",
   "execution_count": 15,
   "metadata": {},
   "outputs": [],
   "source": [
    "data = np.loadtxt(filename, delimiter=\",\")"
   ]
  },
  {
   "cell_type": "code",
   "execution_count": 16,
   "metadata": {},
   "outputs": [
    {
     "name": "stdout",
     "output_type": "stream",
     "text": [
      "[ 1.      1.     18.5075]\n",
      "[ 1.      2.     15.5127]\n",
      "[1.      3.      7.23089]\n",
      "[1.      4.      7.84532]\n",
      "[ 1.      5.     14.1394]\n",
      "[ 1.      6.     17.3237]\n",
      "[ 1.      7.     18.6015]\n",
      "[ 1.      8.     17.7445]\n",
      "[ 1.      9.     17.7377]\n",
      "[ 1.     10.     16.5817]\n",
      "[ 1.     11.     15.9421]\n",
      "[ 1.     12.     15.4064]\n",
      "[ 1.    13.    10.228]\n",
      "[ 1.      14.       8.62032]\n",
      "[ 1.     15.     11.9815]\n",
      "[ 1.    16.    13.264]\n",
      "[ 1.     17.     15.2547]\n",
      "[ 1.     18.     15.1075]\n",
      "[ 1.     19.     12.4934]\n",
      "[ 1.     20.     13.4808]\n",
      "[ 1.     21.     16.5115]\n",
      "[ 1.    22.    15.631]\n",
      "[ 1.    23.    14.835]\n",
      "[ 1.     24.     16.7934]\n",
      "[ 1.     25.     19.2788]\n",
      "[ 1.     26.     19.6938]\n",
      "[ 1.     27.     17.5399]\n",
      "[ 1.     28.     16.0147]\n",
      "[ 1.     29.     15.0412]\n",
      "[ 1.     30.     15.2794]\n",
      "[ 1.     31.     17.5751]\n",
      "[ 2.      1.     18.3736]\n",
      "[ 2.     2.    18.813]\n",
      "[ 2.      3.     18.4841]\n",
      "[ 2.     4.    18.688]\n",
      "[ 2.      5.     19.6304]\n",
      "[ 2.      6.     17.3668]\n",
      "[ 2.      7.     15.1529]\n",
      "[ 2.      8.     15.8617]\n",
      "[ 2.      9.     14.0275]\n",
      "[ 2.     10.     12.4384]\n",
      "[ 2.     11.     10.5405]\n",
      "[ 2.      12.       6.71405]\n",
      "[ 2.     13.      9.7311]\n",
      "[ 2.     14.     11.2375]\n",
      "[ 2.     15.     15.1406]\n",
      "[ 2.     16.     18.6042]\n",
      "[ 2.     17.     18.6224]\n",
      "[ 2.     18.     17.9259]\n",
      "[ 2.    19.    15.394]\n",
      "[ 2.     20.     14.2147]\n",
      "[ 2.     21.     16.7552]\n",
      "[ 2.     22.     19.4455]\n",
      "[ 2.     23.     22.9393]\n",
      "[ 2.     24.     23.6067]\n",
      "[ 2.     25.     17.9521]\n",
      "[ 2.     26.     16.0656]\n",
      "[ 2.     27.     17.8848]\n",
      "[ 2.     28.     18.9217]\n",
      "[ 2.     29.     21.0016]\n",
      "[ 3.      1.     22.7906]\n",
      "[ 3.     2.    24.693]\n",
      "[ 3.      3.     23.0497]\n",
      "[ 3.      4.     15.9355]\n",
      "[ 3.      5.     15.4122]\n",
      "[ 3.      6.     17.1083]\n",
      "[ 3.      7.     19.4636]\n",
      "[ 3.      8.     22.8712]\n",
      "[ 3.      9.     22.1462]\n",
      "[ 3.     10.     19.7187]\n",
      "[ 3.     11.     20.7606]\n",
      "[ 3.     12.     21.0736]\n",
      "[ 3.     13.     22.6223]\n",
      "[ 3.     14.     26.1936]\n",
      "[ 3.     15.     28.2076]\n",
      "[ 3.     16.     28.7218]\n",
      "[ 3.     17.     27.9587]\n",
      "[ 3.     18.     28.0736]\n",
      "[ 3.     19.     28.5379]\n",
      "[ 3.    20.    28.872]\n",
      "[ 3.     21.     28.0024]\n",
      "[ 3.     22.     26.7322]\n",
      "[ 3.     23.     25.0476]\n",
      "[ 3.     24.     24.3769]\n",
      "[ 3.     25.     24.1246]\n",
      "[ 3.     26.     25.8318]\n",
      "[ 3.     27.     26.9918]\n",
      "[ 3.    28.    26.883]\n",
      "[ 3.     29.     27.5935]\n",
      "[ 3.     30.     26.9637]\n",
      "[ 3.     31.     25.8638]\n",
      "[ 4.      1.     27.0294]\n",
      "[ 4.      2.     28.7508]\n",
      "[ 4.      3.     29.5323]\n",
      "[ 4.      4.     28.5631]\n",
      "[ 4.      5.     26.5648]\n",
      "[ 4.      6.     22.9631]\n",
      "[ 4.      7.     22.1121]\n",
      "[ 4.      8.     24.8539]\n",
      "[ 4.      9.     25.9906]\n",
      "[ 4.    10.    25.963]\n",
      "[ 4.     11.     23.4397]\n",
      "[ 4.     12.     20.6992]\n",
      "[ 4.     13.     22.2166]\n",
      "[ 4.     14.     24.7299]\n",
      "[ 4.     15.     26.3968]\n",
      "[ 4.     16.     26.4148]\n",
      "[ 4.     17.     26.3574]\n",
      "[ 4.     18.     24.5993]\n",
      "[ 4.     19.     21.1491]\n",
      "[ 4.     20.     22.5195]\n",
      "[ 4.     21.     24.3393]\n",
      "[ 4.     22.     23.4093]\n",
      "[ 4.     23.     19.4303]\n",
      "[ 4.     24.     19.6542]\n",
      "[ 4.     25.     24.6473]\n",
      "[ 4.     26.     27.8619]\n",
      "[ 4.     27.     27.6759]\n",
      "[ 4.     28.     28.3958]\n",
      "[ 4.     29.     29.8678]\n",
      "[ 4.    30.    31.334]\n",
      "[ 5.      1.     31.1726]\n",
      "[ 5.      2.     31.1546]\n",
      "[ 5.      3.     29.8684]\n",
      "[ 5.      4.     29.2866]\n",
      "[ 5.      5.     30.5531]\n",
      "[ 5.     6.    31.042]\n",
      "[ 5.     7.    28.889]\n",
      "[ 5.    8.   28.17]\n",
      "[ 5.      9.     26.5669]\n",
      "[ 5.     10.     24.6637]\n",
      "[ 5.     11.     26.0129]\n",
      "[ 5.     12.     25.6859]\n",
      "[ 5.     13.     23.8627]\n",
      "[ 5.     14.     24.6729]\n",
      "[ 5.     15.     27.2031]\n",
      "[ 5.     16.     28.0398]\n",
      "[ 5.     17.     28.4613]\n",
      "[ 5.     18.     28.1208]\n",
      "[ 5.     19.     28.1156]\n",
      "[ 5.     20.     29.0097]\n",
      "[ 5.    21.    29.752]\n",
      "[ 5.     22.     28.7414]\n",
      "[ 5.    23.    28.398]\n",
      "[ 5.     24.     30.1769]\n",
      "[ 5.     25.     31.9513]\n",
      "[ 5.     26.     33.0835]\n",
      "[ 5.     27.     32.7591]\n",
      "[ 5.     28.     31.5875]\n",
      "[ 5.     29.     30.2484]\n",
      "[ 5.     30.     30.7762]\n",
      "[ 5.     31.     31.7993]\n",
      "[ 6.      1.     29.3247]\n",
      "[ 6.      2.     26.9055]\n",
      "[ 6.      3.     28.5989]\n",
      "[ 6.      4.     28.6306]\n",
      "[ 6.      5.     27.3962]\n",
      "[ 6.      6.     27.2226]\n",
      "[ 6.      7.     28.2756]\n",
      "[ 6.      8.     29.2955]\n",
      "[ 6.      9.     29.2528]\n",
      "[ 6.    10.    27.854]\n",
      "[ 6.     11.     26.3438]\n",
      "[ 6.     12.     28.8727]\n",
      "[ 6.     13.     30.9873]\n",
      "[ 6.     14.     31.0807]\n",
      "[ 6.    15.    29.962]\n",
      "[ 6.     16.     29.5578]\n",
      "[ 6.     17.     29.6938]\n",
      "[ 6.     18.     30.4112]\n",
      "[ 6.     19.     31.0456]\n",
      "[ 6.     20.     31.4458]\n",
      "[ 6.     21.     31.7324]\n",
      "[ 6.     22.     32.8556]\n",
      "[ 6.     23.     33.9271]\n",
      "[ 6.     24.     33.4882]\n",
      "[ 6.     25.     33.2586]\n",
      "[ 6.     26.     33.1079]\n",
      "[ 6.     27.     32.5298]\n",
      "[ 6.     28.     34.6965]\n",
      "[ 6.     29.     37.9157]\n",
      "[ 6.     30.     39.3563]\n",
      "[ 7.      1.     39.4133]\n",
      "[ 7.      2.     36.4963]\n",
      "[ 7.     3.    35.057]\n",
      "[ 7.      4.     35.2105]\n",
      "[ 7.      5.     35.6719]\n",
      "[ 7.      6.     35.8662]\n",
      "[ 7.      7.     35.0105]\n",
      "[ 7.      8.     34.5073]\n",
      "[ 7.      9.     34.7452]\n",
      "[ 7.     10.     34.3186]\n",
      "[ 7.     11.     32.9315]\n",
      "[ 7.     12.     30.6971]\n",
      "[ 7.     13.     30.3978]\n",
      "[ 7.     14.     31.9992]\n",
      "[ 7.     15.     32.4018]\n",
      "[ 7.     16.     32.8949]\n",
      "[ 7.     17.     33.2917]\n",
      "[ 7.    18.    33.046]\n",
      "[ 7.     19.     32.8607]\n",
      "[ 7.     20.     31.9551]\n",
      "[ 7.    21.    31.239]\n",
      "[ 7.     22.     32.6797]\n",
      "[ 7.     23.     33.9567]\n",
      "[ 7.     24.     34.7349]\n",
      "[ 7.     25.     35.1683]\n",
      "[ 7.     26.     35.1941]\n",
      "[ 7.     27.     34.6279]\n",
      "[ 7.    28.    34.368]\n",
      "[ 7.     29.     34.5011]\n",
      "[ 7.     30.     34.4006]\n",
      "[ 7.     31.     32.4484]\n",
      "[ 8.      1.     32.2966]\n",
      "[ 8.      2.     34.6301]\n",
      "[ 8.    3.   33.72]\n",
      "[ 8.      4.     32.3789]\n",
      "[ 8.      5.     31.8718]\n",
      "[ 8.      6.     31.4738]\n",
      "[ 8.      7.     30.6756]\n",
      "[ 8.      8.     31.5379]\n",
      "[ 8.      9.     31.6323]\n",
      "[ 8.     10.     30.0162]\n",
      "[ 8.    11.    29.622]\n",
      "[ 8.     12.     30.1251]\n",
      "[ 8.     13.     30.5428]\n",
      "[ 8.    14.    30.655]\n",
      "[ 8.     15.     30.8949]\n",
      "[ 8.     16.     31.6489]\n",
      "[ 8.     17.     31.4009]\n",
      "[ 8.     18.     30.6552]\n",
      "[ 8.     19.     29.1364]\n",
      "[ 8.     20.     28.1798]\n",
      "[ 8.     21.     29.1595]\n",
      "[ 8.     22.     29.6848]\n",
      "[ 8.     23.     29.9999]\n",
      "[ 8.     24.     30.3734]\n",
      "[ 8.     25.     30.3519]\n",
      "[ 8.    26.    31.075]\n",
      "[ 8.     27.     31.5198]\n",
      "[ 8.     28.     30.4236]\n",
      "[ 8.     29.     29.8609]\n",
      "[ 8.    30.    29.137]\n",
      "[ 8.     31.     29.5705]\n",
      "[ 9.      1.     31.5417]\n",
      "[ 9.      2.     31.8367]\n",
      "[ 9.     3.    30.331]\n",
      "[ 9.   4.  28.2]\n",
      "[ 9.      5.     28.7351]\n",
      "[ 9.     6.    30.184]\n",
      "[ 9.      7.     31.3815]\n",
      "[ 9.      8.     31.0088]\n",
      "[ 9.      9.     28.7276]\n",
      "[ 9.     10.     28.0344]\n",
      "[ 9.     11.     28.1287]\n",
      "[ 9.     12.     27.8017]\n",
      "[ 9.     13.     27.5048]\n",
      "[ 9.     14.     27.6826]\n",
      "[ 9.     15.     28.8874]\n",
      "[ 9.     16.     29.3571]\n",
      "[ 9.     17.     28.8119]\n",
      "[ 9.     18.     26.6595]\n",
      "[ 9.     19.     26.0088]\n",
      "[ 9.     20.     26.4901]\n",
      "[ 9.     21.     27.4811]\n",
      "[ 9.     22.     28.7756]\n",
      "[ 9.   23.   28.19]\n",
      "[ 9.     24.     26.4729]\n",
      "[ 9.     25.     26.3745]\n",
      "[ 9.     26.     28.0046]\n",
      "[ 9.     27.     29.1648]\n",
      "[ 9.     28.     29.4538]\n",
      "[ 9.    29.    28.397]\n",
      "[ 9.     30.     25.6781]\n",
      "[10.     1.    24.379]\n",
      "[10.      2.     24.1819]\n",
      "[10.    3.   23.84]\n",
      "[10.      4.     25.5579]\n",
      "[10.     5.    27.296]\n",
      "[10.      6.     27.0793]\n",
      "[10.     7.    24.264]\n",
      "[10.      8.     20.1432]\n",
      "[10.     9.    19.934]\n",
      "[10.     10.     22.2622]\n",
      "[10.     11.     23.7642]\n",
      "[10.     12.     25.0113]\n",
      "[10.     13.     25.0643]\n",
      "[10.    14.    24.786]\n",
      "[10.     15.     24.8719]\n",
      "[10.     16.     23.9242]\n",
      "[10.     17.     23.7836]\n",
      "[10.     18.     24.1953]\n",
      "[10.     19.     23.4571]\n",
      "[10.     20.     22.4113]\n",
      "[10.     21.     23.0435]\n",
      "[10.    22.    24.935]\n",
      "[10.     23.     25.6571]\n",
      "[10.     24.     26.1047]\n",
      "[10.     25.     26.5534]\n",
      "[10.     26.     26.5511]\n",
      "[10.     27.     23.4102]\n",
      "[10.     28.     18.3082]\n",
      "[10.     29.     15.7559]\n",
      "[10.     30.     14.8538]\n",
      "[10.     31.     17.1348]\n",
      "[11.      1.     18.8905]\n",
      "[11.      2.     21.7296]\n",
      "[11.      3.     25.2685]\n",
      "[11.      4.     24.5966]\n",
      "[11.      5.     20.9222]\n",
      "[11.      6.     16.4391]\n",
      "[11.      7.     13.0669]\n",
      "[11.      8.     15.4804]\n",
      "[11.      9.     18.9463]\n",
      "[11.     10.     21.1147]\n",
      "[11.     11.     21.7437]\n",
      "[11.     12.     21.4361]\n",
      "[11.     13.     18.1702]\n",
      "[11.     14.     14.5952]\n",
      "[11.     15.     12.6747]\n",
      "[11.     16.     14.8718]\n",
      "[11.     17.     16.5466]\n",
      "[11.     18.     17.5074]\n",
      "[11.     19.     18.0681]\n",
      "[11.     20.     19.3195]\n",
      "[11.     21.     20.6725]\n",
      "[11.     22.     20.8385]\n",
      "[11.     23.     21.1957]\n",
      "[11.     24.     18.2442]\n",
      "[11.     25.     14.8955]\n",
      "[11.     26.     17.9014]\n",
      "[11.     27.     16.6709]\n",
      "[11.     28.     14.1148]\n",
      "[11.     29.     15.3995]\n",
      "[11.     30.     17.1216]\n",
      "[12.      1.     19.2977]\n",
      "[12.      2.     21.2264]\n",
      "[12.      3.     22.2788]\n",
      "[12.      4.     22.3959]\n",
      "[12.      5.     21.5602]\n",
      "[12.      6.     19.0802]\n",
      "[12.      7.     18.0301]\n",
      "[12.     8.    18.948]\n",
      "[12.      9.     19.8914]\n",
      "[12.     10.     20.0299]\n",
      "[12.     11.     16.1687]\n",
      "[12.    12.    10.638]\n",
      "[12.     13.     12.3961]\n",
      "[12.     14.     14.5942]\n",
      "[12.     15.     15.5814]\n",
      "[12.     16.     15.9872]\n",
      "[12.     17.     15.6713]\n",
      "[12.     18.     15.6338]\n",
      "[12.     19.     17.7219]\n",
      "[12.     20.     17.7516]\n",
      "[12.    21.    12.695]\n",
      "[12.     22.     10.8631]\n",
      "[12.     23.     12.8755]\n",
      "[12.     24.     14.0845]\n",
      "[12.     25.     13.3677]\n",
      "[12.     26.     14.3075]\n",
      "[12.     27.     10.1273]\n",
      "[12.      28.       9.59908]\n",
      "[12.      29.       9.33227]\n",
      "[12.      30.       8.79309]\n",
      "[12.    31.    11.043]\n"
     ]
    }
   ],
   "source": [
    "for line in data:\n",
    "    print(line)"
   ]
  },
  {
   "cell_type": "code",
   "execution_count": null,
   "metadata": {},
   "outputs": [],
   "source": [
    "import pandas as pd"
   ]
  },
  {
   "cell_type": "code",
   "execution_count": null,
   "metadata": {},
   "outputs": [],
   "source": [
    "df=pd.read_csv(\"tmax_2012c.csv\")"
   ]
  },
  {
   "cell_type": "code",
   "execution_count": null,
   "metadata": {},
   "outputs": [],
   "source": [
    "df.columns=['Month','Day','Temp']"
   ]
  },
  {
   "cell_type": "code",
   "execution_count": null,
   "metadata": {},
   "outputs": [],
   "source": [
    "df.iloc[:,-1]=((df.iloc[:,-1])*9/5)+35 \n",
    "#change all values in last column from C to F using formula"
   ]
  },
  {
   "cell_type": "code",
   "execution_count": null,
   "metadata": {},
   "outputs": [],
   "source": [
    "print(df.iloc[:,-1])"
   ]
  },
  {
   "cell_type": "code",
   "execution_count": 2,
   "metadata": {},
   "outputs": [],
   "source": [
    "import numpy as np\n",
    "v = np.linspace(0,10,5)"
   ]
  },
  {
   "cell_type": "code",
   "execution_count": 3,
   "metadata": {},
   "outputs": [
    {
     "data": {
      "text/plain": [
       "array([ 0. ,  2.5,  5. ,  7.5, 10. ])"
      ]
     },
     "execution_count": 3,
     "metadata": {},
     "output_type": "execute_result"
    }
   ],
   "source": [
    "v"
   ]
  },
  {
   "cell_type": "code",
   "execution_count": 4,
   "metadata": {},
   "outputs": [],
   "source": [
    "first= 2.2"
   ]
  },
  {
   "cell_type": "code",
   "execution_count": 5,
   "metadata": {},
   "outputs": [],
   "source": [
    "v[0]=first"
   ]
  },
  {
   "cell_type": "code",
   "execution_count": 6,
   "metadata": {},
   "outputs": [
    {
     "data": {
      "text/plain": [
       "array([ 2.2,  2.5,  5. ,  7.5, 10. ])"
      ]
     },
     "execution_count": 6,
     "metadata": {},
     "output_type": "execute_result"
    }
   ],
   "source": [
    "v"
   ]
  },
  {
   "cell_type": "code",
   "execution_count": null,
   "metadata": {},
   "outputs": [],
   "source": []
  }
 ],
 "metadata": {
  "kernelspec": {
   "display_name": "Python 3",
   "language": "python",
   "name": "python3"
  },
  "language_info": {
   "codemirror_mode": {
    "name": "ipython",
    "version": 3
   },
   "file_extension": ".py",
   "mimetype": "text/x-python",
   "name": "python",
   "nbconvert_exporter": "python",
   "pygments_lexer": "ipython3",
   "version": "3.7.3"
  }
 },
 "nbformat": 4,
 "nbformat_minor": 2
}
