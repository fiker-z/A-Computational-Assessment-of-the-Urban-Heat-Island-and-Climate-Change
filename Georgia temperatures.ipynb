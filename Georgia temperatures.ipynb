{
 "cells": [
  {
   "cell_type": "markdown",
   "metadata": {},
   "source": [
    "## Calculating and plotting average temperatures in Georgia overtime\n",
    "* Convert temperatures from Celsius to Fahrenheit\n",
    "* Plot each month's temperatures\n",
    "* Plot yearly temperatures\n",
    "* Plot monthly average temperatures over the whole year"
   ]
  },
  {
   "cell_type": "code",
   "execution_count": null,
   "metadata": {},
   "outputs": [],
   "source": [
    "#force resets"
   ]
  },
  {
   "cell_type": "code",
   "execution_count": 70,
   "metadata": {},
   "outputs": [
    {
     "name": "stderr",
     "output_type": "stream",
     "text": [
      "ERROR:root:Invalid alias: The name clear can't be aliased because it is another magic command.\n",
      "ERROR:root:Invalid alias: The name more can't be aliased because it is another magic command.\n",
      "ERROR:root:Invalid alias: The name less can't be aliased because it is another magic command.\n",
      "ERROR:root:Invalid alias: The name man can't be aliased because it is another magic command.\n"
     ]
    }
   ],
   "source": [
    "%reset -f"
   ]
  },
  {
   "cell_type": "code",
   "execution_count": 10,
   "metadata": {},
   "outputs": [],
   "source": [
    "import pandas as pd\n",
    "from matplotlib import pyplot as plt\n",
    "import numpy as np"
   ]
  },
  {
   "cell_type": "code",
   "execution_count": 11,
   "metadata": {},
   "outputs": [],
   "source": [
    "df = pd.read_csv(\"tmax_2012c.csv\")"
   ]
  },
  {
   "cell_type": "code",
   "execution_count": 12,
   "metadata": {
    "scrolled": true
   },
   "outputs": [
    {
     "data": {
      "text/html": [
       "<div>\n",
       "<style scoped>\n",
       "    .dataframe tbody tr th:only-of-type {\n",
       "        vertical-align: middle;\n",
       "    }\n",
       "\n",
       "    .dataframe tbody tr th {\n",
       "        vertical-align: top;\n",
       "    }\n",
       "\n",
       "    .dataframe thead th {\n",
       "        text-align: right;\n",
       "    }\n",
       "</style>\n",
       "<table border=\"1\" class=\"dataframe\">\n",
       "  <thead>\n",
       "    <tr style=\"text-align: right;\">\n",
       "      <th></th>\n",
       "      <th>Month</th>\n",
       "      <th>Day</th>\n",
       "      <th>Temp</th>\n",
       "    </tr>\n",
       "  </thead>\n",
       "  <tbody>\n",
       "    <tr>\n",
       "      <th>0</th>\n",
       "      <td>1</td>\n",
       "      <td>2</td>\n",
       "      <td>15.51270</td>\n",
       "    </tr>\n",
       "    <tr>\n",
       "      <th>1</th>\n",
       "      <td>1</td>\n",
       "      <td>3</td>\n",
       "      <td>7.23089</td>\n",
       "    </tr>\n",
       "    <tr>\n",
       "      <th>2</th>\n",
       "      <td>1</td>\n",
       "      <td>4</td>\n",
       "      <td>7.84532</td>\n",
       "    </tr>\n",
       "    <tr>\n",
       "      <th>3</th>\n",
       "      <td>1</td>\n",
       "      <td>5</td>\n",
       "      <td>14.13940</td>\n",
       "    </tr>\n",
       "    <tr>\n",
       "      <th>4</th>\n",
       "      <td>1</td>\n",
       "      <td>6</td>\n",
       "      <td>17.32370</td>\n",
       "    </tr>\n",
       "    <tr>\n",
       "      <th>5</th>\n",
       "      <td>1</td>\n",
       "      <td>7</td>\n",
       "      <td>18.60150</td>\n",
       "    </tr>\n",
       "    <tr>\n",
       "      <th>6</th>\n",
       "      <td>1</td>\n",
       "      <td>8</td>\n",
       "      <td>17.74450</td>\n",
       "    </tr>\n",
       "    <tr>\n",
       "      <th>7</th>\n",
       "      <td>1</td>\n",
       "      <td>9</td>\n",
       "      <td>17.73770</td>\n",
       "    </tr>\n",
       "    <tr>\n",
       "      <th>8</th>\n",
       "      <td>1</td>\n",
       "      <td>10</td>\n",
       "      <td>16.58170</td>\n",
       "    </tr>\n",
       "    <tr>\n",
       "      <th>9</th>\n",
       "      <td>1</td>\n",
       "      <td>11</td>\n",
       "      <td>15.94210</td>\n",
       "    </tr>\n",
       "    <tr>\n",
       "      <th>10</th>\n",
       "      <td>1</td>\n",
       "      <td>12</td>\n",
       "      <td>15.40640</td>\n",
       "    </tr>\n",
       "    <tr>\n",
       "      <th>11</th>\n",
       "      <td>1</td>\n",
       "      <td>13</td>\n",
       "      <td>10.22800</td>\n",
       "    </tr>\n",
       "    <tr>\n",
       "      <th>12</th>\n",
       "      <td>1</td>\n",
       "      <td>14</td>\n",
       "      <td>8.62032</td>\n",
       "    </tr>\n",
       "    <tr>\n",
       "      <th>13</th>\n",
       "      <td>1</td>\n",
       "      <td>15</td>\n",
       "      <td>11.98150</td>\n",
       "    </tr>\n",
       "    <tr>\n",
       "      <th>14</th>\n",
       "      <td>1</td>\n",
       "      <td>16</td>\n",
       "      <td>13.26400</td>\n",
       "    </tr>\n",
       "    <tr>\n",
       "      <th>15</th>\n",
       "      <td>1</td>\n",
       "      <td>17</td>\n",
       "      <td>15.25470</td>\n",
       "    </tr>\n",
       "    <tr>\n",
       "      <th>16</th>\n",
       "      <td>1</td>\n",
       "      <td>18</td>\n",
       "      <td>15.10750</td>\n",
       "    </tr>\n",
       "    <tr>\n",
       "      <th>17</th>\n",
       "      <td>1</td>\n",
       "      <td>19</td>\n",
       "      <td>12.49340</td>\n",
       "    </tr>\n",
       "    <tr>\n",
       "      <th>18</th>\n",
       "      <td>1</td>\n",
       "      <td>20</td>\n",
       "      <td>13.48080</td>\n",
       "    </tr>\n",
       "    <tr>\n",
       "      <th>19</th>\n",
       "      <td>1</td>\n",
       "      <td>21</td>\n",
       "      <td>16.51150</td>\n",
       "    </tr>\n",
       "    <tr>\n",
       "      <th>20</th>\n",
       "      <td>1</td>\n",
       "      <td>22</td>\n",
       "      <td>15.63100</td>\n",
       "    </tr>\n",
       "    <tr>\n",
       "      <th>21</th>\n",
       "      <td>1</td>\n",
       "      <td>23</td>\n",
       "      <td>14.83500</td>\n",
       "    </tr>\n",
       "    <tr>\n",
       "      <th>22</th>\n",
       "      <td>1</td>\n",
       "      <td>24</td>\n",
       "      <td>16.79340</td>\n",
       "    </tr>\n",
       "    <tr>\n",
       "      <th>23</th>\n",
       "      <td>1</td>\n",
       "      <td>25</td>\n",
       "      <td>19.27880</td>\n",
       "    </tr>\n",
       "    <tr>\n",
       "      <th>24</th>\n",
       "      <td>1</td>\n",
       "      <td>26</td>\n",
       "      <td>19.69380</td>\n",
       "    </tr>\n",
       "    <tr>\n",
       "      <th>25</th>\n",
       "      <td>1</td>\n",
       "      <td>27</td>\n",
       "      <td>17.53990</td>\n",
       "    </tr>\n",
       "    <tr>\n",
       "      <th>26</th>\n",
       "      <td>1</td>\n",
       "      <td>28</td>\n",
       "      <td>16.01470</td>\n",
       "    </tr>\n",
       "    <tr>\n",
       "      <th>27</th>\n",
       "      <td>1</td>\n",
       "      <td>29</td>\n",
       "      <td>15.04120</td>\n",
       "    </tr>\n",
       "    <tr>\n",
       "      <th>28</th>\n",
       "      <td>1</td>\n",
       "      <td>30</td>\n",
       "      <td>15.27940</td>\n",
       "    </tr>\n",
       "    <tr>\n",
       "      <th>29</th>\n",
       "      <td>1</td>\n",
       "      <td>31</td>\n",
       "      <td>17.57510</td>\n",
       "    </tr>\n",
       "    <tr>\n",
       "      <th>...</th>\n",
       "      <td>...</td>\n",
       "      <td>...</td>\n",
       "      <td>...</td>\n",
       "    </tr>\n",
       "    <tr>\n",
       "      <th>335</th>\n",
       "      <td>12</td>\n",
       "      <td>2</td>\n",
       "      <td>21.22640</td>\n",
       "    </tr>\n",
       "    <tr>\n",
       "      <th>336</th>\n",
       "      <td>12</td>\n",
       "      <td>3</td>\n",
       "      <td>22.27880</td>\n",
       "    </tr>\n",
       "    <tr>\n",
       "      <th>337</th>\n",
       "      <td>12</td>\n",
       "      <td>4</td>\n",
       "      <td>22.39590</td>\n",
       "    </tr>\n",
       "    <tr>\n",
       "      <th>338</th>\n",
       "      <td>12</td>\n",
       "      <td>5</td>\n",
       "      <td>21.56020</td>\n",
       "    </tr>\n",
       "    <tr>\n",
       "      <th>339</th>\n",
       "      <td>12</td>\n",
       "      <td>6</td>\n",
       "      <td>19.08020</td>\n",
       "    </tr>\n",
       "    <tr>\n",
       "      <th>340</th>\n",
       "      <td>12</td>\n",
       "      <td>7</td>\n",
       "      <td>18.03010</td>\n",
       "    </tr>\n",
       "    <tr>\n",
       "      <th>341</th>\n",
       "      <td>12</td>\n",
       "      <td>8</td>\n",
       "      <td>18.94800</td>\n",
       "    </tr>\n",
       "    <tr>\n",
       "      <th>342</th>\n",
       "      <td>12</td>\n",
       "      <td>9</td>\n",
       "      <td>19.89140</td>\n",
       "    </tr>\n",
       "    <tr>\n",
       "      <th>343</th>\n",
       "      <td>12</td>\n",
       "      <td>10</td>\n",
       "      <td>20.02990</td>\n",
       "    </tr>\n",
       "    <tr>\n",
       "      <th>344</th>\n",
       "      <td>12</td>\n",
       "      <td>11</td>\n",
       "      <td>16.16870</td>\n",
       "    </tr>\n",
       "    <tr>\n",
       "      <th>345</th>\n",
       "      <td>12</td>\n",
       "      <td>12</td>\n",
       "      <td>10.63800</td>\n",
       "    </tr>\n",
       "    <tr>\n",
       "      <th>346</th>\n",
       "      <td>12</td>\n",
       "      <td>13</td>\n",
       "      <td>12.39610</td>\n",
       "    </tr>\n",
       "    <tr>\n",
       "      <th>347</th>\n",
       "      <td>12</td>\n",
       "      <td>14</td>\n",
       "      <td>14.59420</td>\n",
       "    </tr>\n",
       "    <tr>\n",
       "      <th>348</th>\n",
       "      <td>12</td>\n",
       "      <td>15</td>\n",
       "      <td>15.58140</td>\n",
       "    </tr>\n",
       "    <tr>\n",
       "      <th>349</th>\n",
       "      <td>12</td>\n",
       "      <td>16</td>\n",
       "      <td>15.98720</td>\n",
       "    </tr>\n",
       "    <tr>\n",
       "      <th>350</th>\n",
       "      <td>12</td>\n",
       "      <td>17</td>\n",
       "      <td>15.67130</td>\n",
       "    </tr>\n",
       "    <tr>\n",
       "      <th>351</th>\n",
       "      <td>12</td>\n",
       "      <td>18</td>\n",
       "      <td>15.63380</td>\n",
       "    </tr>\n",
       "    <tr>\n",
       "      <th>352</th>\n",
       "      <td>12</td>\n",
       "      <td>19</td>\n",
       "      <td>17.72190</td>\n",
       "    </tr>\n",
       "    <tr>\n",
       "      <th>353</th>\n",
       "      <td>12</td>\n",
       "      <td>20</td>\n",
       "      <td>17.75160</td>\n",
       "    </tr>\n",
       "    <tr>\n",
       "      <th>354</th>\n",
       "      <td>12</td>\n",
       "      <td>21</td>\n",
       "      <td>12.69500</td>\n",
       "    </tr>\n",
       "    <tr>\n",
       "      <th>355</th>\n",
       "      <td>12</td>\n",
       "      <td>22</td>\n",
       "      <td>10.86310</td>\n",
       "    </tr>\n",
       "    <tr>\n",
       "      <th>356</th>\n",
       "      <td>12</td>\n",
       "      <td>23</td>\n",
       "      <td>12.87550</td>\n",
       "    </tr>\n",
       "    <tr>\n",
       "      <th>357</th>\n",
       "      <td>12</td>\n",
       "      <td>24</td>\n",
       "      <td>14.08450</td>\n",
       "    </tr>\n",
       "    <tr>\n",
       "      <th>358</th>\n",
       "      <td>12</td>\n",
       "      <td>25</td>\n",
       "      <td>13.36770</td>\n",
       "    </tr>\n",
       "    <tr>\n",
       "      <th>359</th>\n",
       "      <td>12</td>\n",
       "      <td>26</td>\n",
       "      <td>14.30750</td>\n",
       "    </tr>\n",
       "    <tr>\n",
       "      <th>360</th>\n",
       "      <td>12</td>\n",
       "      <td>27</td>\n",
       "      <td>10.12730</td>\n",
       "    </tr>\n",
       "    <tr>\n",
       "      <th>361</th>\n",
       "      <td>12</td>\n",
       "      <td>28</td>\n",
       "      <td>9.59908</td>\n",
       "    </tr>\n",
       "    <tr>\n",
       "      <th>362</th>\n",
       "      <td>12</td>\n",
       "      <td>29</td>\n",
       "      <td>9.33227</td>\n",
       "    </tr>\n",
       "    <tr>\n",
       "      <th>363</th>\n",
       "      <td>12</td>\n",
       "      <td>30</td>\n",
       "      <td>8.79309</td>\n",
       "    </tr>\n",
       "    <tr>\n",
       "      <th>364</th>\n",
       "      <td>12</td>\n",
       "      <td>31</td>\n",
       "      <td>11.04300</td>\n",
       "    </tr>\n",
       "  </tbody>\n",
       "</table>\n",
       "<p>365 rows × 3 columns</p>\n",
       "</div>"
      ],
      "text/plain": [
       "     Month  Day      Temp\n",
       "0        1    2  15.51270\n",
       "1        1    3   7.23089\n",
       "2        1    4   7.84532\n",
       "3        1    5  14.13940\n",
       "4        1    6  17.32370\n",
       "5        1    7  18.60150\n",
       "6        1    8  17.74450\n",
       "7        1    9  17.73770\n",
       "8        1   10  16.58170\n",
       "9        1   11  15.94210\n",
       "10       1   12  15.40640\n",
       "11       1   13  10.22800\n",
       "12       1   14   8.62032\n",
       "13       1   15  11.98150\n",
       "14       1   16  13.26400\n",
       "15       1   17  15.25470\n",
       "16       1   18  15.10750\n",
       "17       1   19  12.49340\n",
       "18       1   20  13.48080\n",
       "19       1   21  16.51150\n",
       "20       1   22  15.63100\n",
       "21       1   23  14.83500\n",
       "22       1   24  16.79340\n",
       "23       1   25  19.27880\n",
       "24       1   26  19.69380\n",
       "25       1   27  17.53990\n",
       "26       1   28  16.01470\n",
       "27       1   29  15.04120\n",
       "28       1   30  15.27940\n",
       "29       1   31  17.57510\n",
       "..     ...  ...       ...\n",
       "335     12    2  21.22640\n",
       "336     12    3  22.27880\n",
       "337     12    4  22.39590\n",
       "338     12    5  21.56020\n",
       "339     12    6  19.08020\n",
       "340     12    7  18.03010\n",
       "341     12    8  18.94800\n",
       "342     12    9  19.89140\n",
       "343     12   10  20.02990\n",
       "344     12   11  16.16870\n",
       "345     12   12  10.63800\n",
       "346     12   13  12.39610\n",
       "347     12   14  14.59420\n",
       "348     12   15  15.58140\n",
       "349     12   16  15.98720\n",
       "350     12   17  15.67130\n",
       "351     12   18  15.63380\n",
       "352     12   19  17.72190\n",
       "353     12   20  17.75160\n",
       "354     12   21  12.69500\n",
       "355     12   22  10.86310\n",
       "356     12   23  12.87550\n",
       "357     12   24  14.08450\n",
       "358     12   25  13.36770\n",
       "359     12   26  14.30750\n",
       "360     12   27  10.12730\n",
       "361     12   28   9.59908\n",
       "362     12   29   9.33227\n",
       "363     12   30   8.79309\n",
       "364     12   31  11.04300\n",
       "\n",
       "[365 rows x 3 columns]"
      ]
     },
     "execution_count": 12,
     "metadata": {},
     "output_type": "execute_result"
    }
   ],
   "source": [
    "df.columns= [\"Month\", \"Day\", \"Temp\"]\n",
    "df"
   ]
  },
  {
   "cell_type": "code",
   "execution_count": 13,
   "metadata": {
    "scrolled": true
   },
   "outputs": [
    {
     "data": {
      "text/plain": [
       "[<matplotlib.lines.Line2D at 0x116535ba8>]"
      ]
     },
     "execution_count": 13,
     "metadata": {},
     "output_type": "execute_result"
    },
    {
     "data": {
      "image/png": "[encoded data removed]",
      "text/plain": [
       "<Figure size 432x288 with 1 Axes>"
      ]
     },
     "metadata": {
      "needs_background": "light"
     },
     "output_type": "display_data"
    }
   ],
   "source": [
    "plt.plot(df.Temp)"
   ]
  },
  {
   "cell_type": "code",
   "execution_count": 14,
   "metadata": {},
   "outputs": [],
   "source": [
    "df.iloc[:,-1]= (df.iloc[:, -1]*9/5)+35 #temps from C to F"
   ]
  },
  {
   "cell_type": "code",
   "execution_count": 15,
   "metadata": {
    "scrolled": false
   },
   "outputs": [
    {
     "name": "stdout",
     "output_type": "stream",
     "text": [
      "0      62.922860\n",
      "1      48.015602\n",
      "2      49.121576\n",
      "3      60.450920\n",
      "4      66.182660\n",
      "5      68.482700\n",
      "6      66.940100\n",
      "7      66.927860\n",
      "8      64.847060\n",
      "9      63.695780\n",
      "10     62.731520\n",
      "11     53.410400\n",
      "12     50.516576\n",
      "13     56.566700\n",
      "14     58.875200\n",
      "15     62.458460\n",
      "16     62.193500\n",
      "17     57.488120\n",
      "18     59.265440\n",
      "19     64.720700\n",
      "20     63.135800\n",
      "21     61.703000\n",
      "22     65.228120\n",
      "23     69.701840\n",
      "24     70.448840\n",
      "25     66.571820\n",
      "26     63.826460\n",
      "27     62.074160\n",
      "28     62.502920\n",
      "29     66.635180\n",
      "         ...    \n",
      "335    73.207520\n",
      "336    75.101840\n",
      "337    75.312620\n",
      "338    73.808360\n",
      "339    69.344360\n",
      "340    67.454180\n",
      "341    69.106400\n",
      "342    70.804520\n",
      "343    71.053820\n",
      "344    64.103660\n",
      "345    54.148400\n",
      "346    57.312980\n",
      "347    61.269560\n",
      "348    63.046520\n",
      "349    63.776960\n",
      "350    63.208340\n",
      "351    63.140840\n",
      "352    66.899420\n",
      "353    66.952880\n",
      "354    57.851000\n",
      "355    54.553580\n",
      "356    58.175900\n",
      "357    60.352100\n",
      "358    59.061860\n",
      "359    60.753500\n",
      "360    53.229140\n",
      "361    52.278344\n",
      "362    51.798086\n",
      "363    50.827562\n",
      "364    54.877400\n",
      "Name: Temp, Length: 365, dtype: float64\n"
     ]
    }
   ],
   "source": [
    "print(df.iloc[:,-1]) #all rows last column"
   ]
  },
  {
   "cell_type": "code",
   "execution_count": 16,
   "metadata": {},
   "outputs": [
    {
     "data": {
      "text/plain": [
       "array([ 1,  2,  3,  4,  5,  6,  7,  8,  9, 10])"
      ]
     },
     "execution_count": 16,
     "metadata": {},
     "output_type": "execute_result"
    }
   ],
   "source": [
    "np.arange(1,10+1)"
   ]
  },
  {
   "cell_type": "markdown",
   "metadata": {},
   "source": [
    "## Iterative for loop example"
   ]
  },
  {
   "cell_type": "code",
   "execution_count": 17,
   "metadata": {},
   "outputs": [
    {
     "name": "stdout",
     "output_type": "stream",
     "text": [
      "Current: 1\n",
      "Current: 2\n",
      "Current: 3\n",
      "Current: 4\n",
      "Current: 5\n",
      "Current: 6\n",
      "Current: 7\n",
      "Current: 8\n",
      "Current: 9\n",
      "Current: 10\n",
      "Current: 11\n",
      "Current: 12\n"
     ]
    }
   ],
   "source": [
    "\n",
    "for n_mon in np.arange(1,12+1):\n",
    "    print('Current: '+np.str(n_mon))\n"
   ]
  },
  {
   "cell_type": "markdown",
   "metadata": {},
   "source": [
    "## Pull the temperature data out of the dataframe and into its own temperature array"
   ]
  },
  {
   "cell_type": "code",
   "execution_count": 18,
   "metadata": {
    "scrolled": true
   },
   "outputs": [
    {
     "name": "stdout",
     "output_type": "stream",
     "text": [
      "[ 0  1  2  3  4  5  6  7  8  9 10 11 12 13 14 15 16 17 18 19 20 21 22 23\n",
      " 24 25 26 27 28 29]\n",
      "[1 1 1 1 1 1 1 1 1 1 1 1 1 1 1 1 1 1 1 1 1 1 1 1 1 1 1 1 1 1]\n",
      "[62.92286  48.015602 49.121576 60.45092  66.18266  68.4827   66.9401\n",
      " 66.92786  64.84706  63.69578  62.73152  53.4104   50.516576 56.5667\n",
      " 58.8752   62.45846  62.1935   57.48812  59.26544  64.7207   63.1358\n",
      " 61.703    65.22812  69.70184  70.44884  66.57182  63.82646  62.07416\n",
      " 62.50292  66.63518 ]\n"
     ]
    },
    {
     "data": {
      "text/plain": [
       "[<matplotlib.lines.Line2D at 0x1166e4b70>]"
      ]
     },
     "execution_count": 18,
     "metadata": {},
     "output_type": "execute_result"
    },
    {
     "data": {
      "image/png": "[encoded data removed]",
      "text/plain": [
       "<Figure size 432x288 with 1 Axes>"
      ]
     },
     "metadata": {
      "needs_background": "light"
     },
     "output_type": "display_data"
    }
   ],
   "source": [
    "array_temp  = np.array(df.Temp)\n",
    "array_month = np.array(df.Month)\n",
    "\n",
    "# Find all january values\n",
    "i_jan = np.where(array_month==1)[0]\n",
    "\n",
    "print(i_jan)\n",
    "print(array_month[i_jan])\n",
    "print(array_temp[i_jan])\n",
    "\n",
    "plt.plot(array_temp)\n",
    "plt.plot(array_temp[i_jan])"
   ]
  },
  {
   "cell_type": "code",
   "execution_count": 19,
   "metadata": {
    "scrolled": true
   },
   "outputs": [
    {
     "data": {
      "text/plain": [
       "61.92139579999999"
      ]
     },
     "execution_count": 19,
     "metadata": {},
     "output_type": "execute_result"
    }
   ],
   "source": [
    "np.mean(array_temp[i_jan])"
   ]
  },
  {
   "cell_type": "code",
   "execution_count": 20,
   "metadata": {},
   "outputs": [
    {
     "name": "stdout",
     "output_type": "stream",
     "text": [
      "[212 213 214 215 216 217 218 219 220 221 222 223 224 225 226 227 228 229\n",
      " 230 231 232 233 234 235 236 237 238 239 240 241 242]\n",
      "[8 8 8 8 8 8 8 8 8 8 8 8 8 8 8 8 8 8 8 8 8 8 8 8 8 8 8 8 8 8 8]\n",
      "[93.13388 97.33418 95.696   93.28202 92.36924 91.65284 90.21608 91.76822\n",
      " 91.93814 89.02916 88.3196  89.22518 89.97704 90.179   90.61082 91.96802\n",
      " 91.52162 90.17936 87.44552 85.72364 87.4871  88.43264 88.99982 89.67212\n",
      " 89.63342 90.935   91.73564 89.76248 88.74962 87.4466  88.2269 ]\n"
     ]
    },
    {
     "data": {
      "text/plain": [
       "90.40809354838711"
      ]
     },
     "execution_count": 20,
     "metadata": {},
     "output_type": "execute_result"
    },
    {
     "data": {
      "image/png": "[encoded data removed]",
      "text/plain": [
       "<Figure size 432x288 with 1 Axes>"
      ]
     },
     "metadata": {
      "needs_background": "light"
     },
     "output_type": "display_data"
    }
   ],
   "source": [
    "#mean temperature for august/8\n",
    "i_aug = np.where(array_month==8)[0]\n",
    "print(i_aug)\n",
    "print(array_month[i_aug])#corresponding month\n",
    "print(array_temp[i_aug])\n",
    "\n",
    "plt.plot(array_temp) #temps for the year\n",
    "plt.plot(array_temp[i_aug]) #august temps\n",
    "\n",
    "np.mean(array_temp[i_aug])"
   ]
  },
  {
   "cell_type": "code",
   "execution_count": 21,
   "metadata": {
    "scrolled": false
   },
   "outputs": [
    {
     "name": "stdout",
     "output_type": "stream",
     "text": [
      "0     62.922860\n",
      "1     48.015602\n",
      "2     49.121576\n",
      "3     60.450920\n",
      "4     66.182660\n",
      "5     68.482700\n",
      "6     66.940100\n",
      "7     66.927860\n",
      "8     64.847060\n",
      "9     63.695780\n",
      "10    62.731520\n",
      "11    53.410400\n",
      "12    50.516576\n",
      "13    56.566700\n",
      "14    58.875200\n",
      "15    62.458460\n",
      "16    62.193500\n",
      "17    57.488120\n",
      "18    59.265440\n",
      "19    64.720700\n",
      "20    63.135800\n",
      "21    61.703000\n",
      "22    65.228120\n",
      "23    69.701840\n",
      "24    70.448840\n",
      "25    66.571820\n",
      "26    63.826460\n",
      "27    62.074160\n",
      "28    62.502920\n",
      "29    66.635180\n",
      "Name: Temp, dtype: float64\n"
     ]
    },
    {
     "data": {
      "text/plain": [
       "[<matplotlib.lines.Line2D at 0x1168c4d30>]"
      ]
     },
     "execution_count": 21,
     "metadata": {},
     "output_type": "execute_result"
    },
    {
     "data": {
      "image/png": "[encoded data removed]",
      "text/plain": [
       "<Figure size 432x288 with 1 Axes>"
      ]
     },
     "metadata": {
      "needs_background": "light"
     },
     "output_type": "display_data"
    }
   ],
   "source": [
    "jtemps = (df.iloc[:30, -1])\n",
    "print(jtemps)\n",
    "plt.plot(jtemps)"
   ]
  },
  {
   "cell_type": "code",
   "execution_count": null,
   "metadata": {
    "scrolled": true
   },
   "outputs": [],
   "source": []
  },
  {
   "cell_type": "code",
   "execution_count": 23,
   "metadata": {
    "scrolled": false
   },
   "outputs": [
    {
     "name": "stdout",
     "output_type": "stream",
     "text": [
      "[ 73  74  75  76  77  78  79  91  92  93 115 117 118 119 120 121 122 123\n",
      " 124 125 126 127 135 136 137 138 139 140 141 142 143 144 145 146 147 148\n",
      " 149 150 151 153 154 157 158 159 160 162 163 164 165 166 167 168 169 170\n",
      " 171 172 173 174 175 176 177 178 179 180 181 182 183 184 185 186 187 188\n",
      " 189 190 191 192 193 194 195 196 197 198 199 200 201 202 203 204 205 206\n",
      " 207 208 209 210 211 212 213 214 215 216 217 218 219 220 221 222 223 224\n",
      " 225 226 227 228 229 230 231 232 233 234 235 236 237 238 239 240 241 242\n",
      " 243 244 245 246 247 248 249 250 251 252 253 254 257 258 259 264 265 268\n",
      " 269 270 271]\n",
      "[ 85.77368  86.69924  85.32566  85.53248  86.36822  86.9696   85.40432\n",
      "  86.75144  88.15814  86.41358  85.15142  86.11244  88.76204  91.4012\n",
      "  91.11068  91.07828  88.76312  87.71588  89.99558  90.8756   87.0002\n",
      "  85.706    85.47164  86.23034  85.61744  85.60808  87.21746  88.5536\n",
      "  86.73452  86.1164   89.31842  92.51234  94.5503   93.96638  91.8575\n",
      "  89.44712  90.39716  92.23874  87.78446  86.47802  86.53508  85.89608\n",
      "  87.7319   87.65504  85.1372   86.97086  90.77714  90.94526  88.9316\n",
      "  88.20404  88.44884  89.74016  90.88208  91.60244  92.11832  94.14008\n",
      "  96.06878  95.27876  94.86548  94.59422  93.55364  97.4537  103.24826\n",
      " 105.84134 105.94394 100.69334  98.1026   98.3789   99.20942  99.55916\n",
      "  98.0189   97.11314  97.54136  96.77348  94.2767   90.25478  89.71604\n",
      "  92.59856  93.32324  94.21082  94.92506  94.4828   94.14926  92.51918\n",
      "  91.2302   93.82346  96.12206  97.52282  98.30294  98.34938  97.33022\n",
      "  96.8624   97.10198  96.92108  93.40712  93.13388  97.33418  95.696\n",
      "  93.28202  92.36924  91.65284  90.21608  91.76822  91.93814  89.02916\n",
      "  88.3196   89.22518  89.97704  90.179    90.61082  91.96802  91.52162\n",
      "  90.17936  87.44552  85.72364  87.4871   88.43264  88.99982  89.67212\n",
      "  89.63342  90.935    91.73564  89.76248  88.74962  87.4466   88.2269\n",
      "  91.77506  92.30606  89.5958   85.76     86.72318  89.3312   91.4867\n",
      "  90.81584  86.70968  85.46192  85.63166  85.04306  86.99732  87.84278\n",
      "  86.86142  86.79608  85.742    85.40828  87.49664  88.01684  86.1146 ]\n"
     ]
    },
    {
     "data": {
      "text/plain": [
       "271"
      ]
     },
     "execution_count": 23,
     "metadata": {},
     "output_type": "execute_result"
    }
   ],
   "source": [
    "i_loc = np.where(array_temp>=85.0)[0]\n",
    "print(i_loc)\n",
    "i_loc.shape\n",
    "print(array_temp[i_loc])\n",
    "np.min([i_loc])\n",
    "np.max([i_loc])"
   ]
  },
  {
   "cell_type": "code",
   "execution_count": 24,
   "metadata": {
    "scrolled": false
   },
   "outputs": [
    {
     "name": "stdout",
     "output_type": "stream",
     "text": [
      "[30 31 32 33 34 35 36 37 38 39 40 41 42 43 44 45 46 47 48 49 50 51 52 53\n",
      " 54 55 56 57 58]\n",
      "[2 2 2 2 2 2 2 2 2 2 2 2 2 2 2 2 2 2 2 2 2 2 2 2 2 2 2 2 2]\n",
      "[68.07248 68.8634  68.27138 68.6384  70.33472 66.26024 62.27522 63.55106\n",
      " 60.2495  57.38912 53.9729  47.08529 52.51598 55.2275  62.25308 68.48756\n",
      " 68.52032 67.26662 62.7092  60.58646 65.15936 70.0019  76.29074 77.49206\n",
      " 67.31378 63.91808 67.19264 69.05906 72.80288]\n"
     ]
    },
    {
     "data": {
      "text/plain": [
       "[<matplotlib.lines.Line2D at 0x116b1fd30>]"
      ]
     },
     "execution_count": 24,
     "metadata": {},
     "output_type": "execute_result"
    },
    {
     "data": {
      "image/png": "[encoded data removed]",
      "text/plain": [
       "<Figure size 432x288 with 1 Axes>"
      ]
     },
     "metadata": {
      "needs_background": "light"
     },
     "output_type": "display_data"
    }
   ],
   "source": [
    "febtemps= np.where(array_month==2)[0]\n",
    "print(febtemps) #prints the indices\n",
    "print(array_month[febtemps])#corresponding month\n",
    "print(array_temp[febtemps])\n",
    "\n",
    "plt.plot(array_temp[febtemps])"
   ]
  },
  {
   "cell_type": "code",
   "execution_count": 25,
   "metadata": {
    "scrolled": true
   },
   "outputs": [
    {
     "name": "stdout",
     "output_type": "stream",
     "text": [
      "[59 60 61 62 63 64 65 66 67 68 69 70 71 72 73 74 75 76 77 78 79 80 81 82\n",
      " 83 84 85 86 87 88 89]\n",
      "[3 3 3 3 3 3 3 3 3 3 3 3 3 3 3 3 3 3 3 3 3 3 3 3 3 3 3 3 3 3 3]\n",
      "[76.02308 79.4474  76.48946 63.6839  62.74196 65.79494 70.03448 76.16816\n",
      " 74.86316 70.49366 72.36908 72.93248 75.72014 82.14848 85.77368 86.69924\n",
      " 85.32566 85.53248 86.36822 86.9696  85.40432 83.11796 80.08568 78.87842\n",
      " 78.42428 81.49724 83.58524 83.3894  84.6683  83.53466 81.55484]\n"
     ]
    },
    {
     "data": {
      "text/plain": [
       "[<matplotlib.lines.Line2D at 0x116b392e8>]"
      ]
     },
     "execution_count": 25,
     "metadata": {},
     "output_type": "execute_result"
    },
    {
     "data": {
      "image/png": "[encoded data removed]",
      "text/plain": [
       "<Figure size 432x288 with 1 Axes>"
      ]
     },
     "metadata": {
      "needs_background": "light"
     },
     "output_type": "display_data"
    }
   ],
   "source": [
    "martemps= np.where(array_month==3)[0]\n",
    "print(martemps) \n",
    "print(array_month[martemps])#corresponding month\n",
    "print(array_temp[martemps])\n",
    "\n",
    "plt.plot(array_temp[martemps])"
   ]
  },
  {
   "cell_type": "code",
   "execution_count": 26,
   "metadata": {},
   "outputs": [
    {
     "name": "stdout",
     "output_type": "stream",
     "text": [
      "[ 90  91  92  93  94  95  96  97  98  99 100 101 102 103 104 105 106 107\n",
      " 108 109 110 111 112 113 114 115 116 117 118 119]\n",
      "[4 4 4 4 4 4 4 4 4 4 4 4 4 4 4 4 4 4 4 4 4 4 4 4 4 4 4 4 4 4]\n",
      "[83.65292 86.75144 88.15814 86.41358 82.81664 76.33358 74.80178 79.73702\n",
      " 81.78308 81.7334  77.19146 72.25856 74.98988 79.51382 82.51424 82.54664\n",
      " 82.44332 79.27874 73.06838 75.5351  78.81074 77.13674 69.97454 70.37756\n",
      " 79.36514 85.15142 84.81662 86.11244 88.76204 91.4012 ]\n"
     ]
    },
    {
     "data": {
      "text/plain": [
       "[<matplotlib.lines.Line2D at 0x116ca7048>]"
      ]
     },
     "execution_count": 26,
     "metadata": {},
     "output_type": "execute_result"
    },
    {
     "data": {
      "image/png": "[encoded data removed]",
      "text/plain": [
       "<Figure size 432x288 with 1 Axes>"
      ]
     },
     "metadata": {
      "needs_background": "light"
     },
     "output_type": "display_data"
    }
   ],
   "source": [
    "aprtemps= np.where(array_month==4)[0]\n",
    "print(aprtemps)\n",
    "print(array_month[aprtemps])\n",
    "print(array_temp[aprtemps])\n",
    "\n",
    "plt.plot(array_temp[aprtemps])"
   ]
  },
  {
   "cell_type": "code",
   "execution_count": 27,
   "metadata": {},
   "outputs": [
    {
     "name": "stdout",
     "output_type": "stream",
     "text": [
      "[120 121 122 123 124 125 126 127 128 129 130 131 132 133 134 135 136 137\n",
      " 138 139 140 141 142 143 144 145 146 147 148 149 150]\n",
      "[5 5 5 5 5 5 5 5 5 5 5 5 5 5 5 5 5 5 5 5 5 5 5 5 5 5 5 5 5 5 5]\n",
      "[91.11068 91.07828 88.76312 87.71588 89.99558 90.8756  87.0002  85.706\n",
      " 82.82042 79.39466 81.82322 81.23462 77.95286 79.41122 83.96558 85.47164\n",
      " 86.23034 85.61744 85.60808 87.21746 88.5536  86.73452 86.1164  89.31842\n",
      " 92.51234 94.5503  93.96638 91.8575  89.44712 90.39716 92.23874]\n"
     ]
    },
    {
     "data": {
      "text/plain": [
       "[<matplotlib.lines.Line2D at 0x116c02dd8>]"
      ]
     },
     "execution_count": 27,
     "metadata": {},
     "output_type": "execute_result"
    },
    {
     "data": {
      "image/png": "[encoded data removed]",
      "text/plain": [
       "<Figure size 432x288 with 1 Axes>"
      ]
     },
     "metadata": {
      "needs_background": "light"
     },
     "output_type": "display_data"
    }
   ],
   "source": [
    "maytemps= np.where(array_month==5)[0]\n",
    "print(maytemps)\n",
    "print(array_month[maytemps])\n",
    "print(array_temp[maytemps])\n",
    "\n",
    "plt.plot(array_temp[maytemps])"
   ]
  },
  {
   "cell_type": "code",
   "execution_count": 28,
   "metadata": {},
   "outputs": [
    {
     "name": "stdout",
     "output_type": "stream",
     "text": [
      "[151 152 153 154 155 156 157 158 159 160 161 162 163 164 165 166 167 168\n",
      " 169 170 171 172 173 174 175 176 177 178 179 180]\n",
      "[6 6 6 6 6 6 6 6 6 6 6 6 6 6 6 6 6 6 6 6 6 6 6 6 6 6 6 6 6 6]\n",
      "[ 87.78446  83.4299   86.47802  86.53508  84.31316  84.00068  85.89608\n",
      "  87.7319   87.65504  85.1372   82.41884  86.97086  90.77714  90.94526\n",
      "  88.9316   88.20404  88.44884  89.74016  90.88208  91.60244  92.11832\n",
      "  94.14008  96.06878  95.27876  94.86548  94.59422  93.55364  97.4537\n",
      " 103.24826 105.84134]\n"
     ]
    },
    {
     "data": {
      "text/plain": [
       "[<matplotlib.lines.Line2D at 0x116e53a58>]"
      ]
     },
     "execution_count": 28,
     "metadata": {},
     "output_type": "execute_result"
    },
    {
     "data": {
      "image/png": "[encoded data removed]",
      "text/plain": [
       "<Figure size 432x288 with 1 Axes>"
      ]
     },
     "metadata": {
      "needs_background": "light"
     },
     "output_type": "display_data"
    }
   ],
   "source": [
    "junetemps= np.where(array_month==6)[0]\n",
    "print(junetemps)\n",
    "print(array_month[junetemps])\n",
    "print(array_temp[junetemps])\n",
    "\n",
    "plt.plot(array_temp[junetemps])"
   ]
  },
  {
   "cell_type": "code",
   "execution_count": 29,
   "metadata": {},
   "outputs": [
    {
     "name": "stdout",
     "output_type": "stream",
     "text": [
      "[181 182 183 184 185 186 187 188 189 190 191 192 193 194 195 196 197 198\n",
      " 199 200 201 202 203 204 205 206 207 208 209 210 211]\n",
      "[105.94394 100.69334  98.1026   98.3789   99.20942  99.55916  98.0189\n",
      "  97.11314  97.54136  96.77348  94.2767   90.25478  89.71604  92.59856\n",
      "  93.32324  94.21082  94.92506  94.4828   94.14926  92.51918  91.2302\n",
      "  93.82346  96.12206  97.52282  98.30294  98.34938  97.33022  96.8624\n",
      "  97.10198  96.92108  93.40712]\n"
     ]
    },
    {
     "data": {
      "text/plain": [
       "[<matplotlib.lines.Line2D at 0x116db86a0>]"
      ]
     },
     "execution_count": 29,
     "metadata": {},
     "output_type": "execute_result"
    },
    {
     "data": {
      "image/png": "[encoded data removed]",
      "text/plain": [
       "<Figure size 432x288 with 1 Axes>"
      ]
     },
     "metadata": {
      "needs_background": "light"
     },
     "output_type": "display_data"
    }
   ],
   "source": [
    "julytemps= np.where(array_month==7)[0]\n",
    "print(julytemps)\n",
    "print(array_temp[julytemps])\n",
    "\n",
    "plt.plot(array_temp[julytemps])"
   ]
  },
  {
   "cell_type": "code",
   "execution_count": 30,
   "metadata": {},
   "outputs": [
    {
     "data": {
      "text/plain": [
       "[<matplotlib.lines.Line2D at 0x1170102b0>]"
      ]
     },
     "execution_count": 30,
     "metadata": {},
     "output_type": "execute_result"
    },
    {
     "data": {
      "image/png": "[encoded data removed]",
      "text/plain": [
       "<Figure size 432x288 with 1 Axes>"
      ]
     },
     "metadata": {
      "needs_background": "light"
     },
     "output_type": "display_data"
    }
   ],
   "source": [
    "plt.plot(array_temp[i_aug])"
   ]
  },
  {
   "cell_type": "code",
   "execution_count": 31,
   "metadata": {},
   "outputs": [
    {
     "name": "stdout",
     "output_type": "stream",
     "text": [
      "[243 244 245 246 247 248 249 250 251 252 253 254 255 256 257 258 259 260\n",
      " 261 262 263 264 265 266 267 268 269 270 271 272]\n",
      "[91.77506 92.30606 89.5958  85.76    86.72318 89.3312  91.4867  90.81584\n",
      " 86.70968 85.46192 85.63166 85.04306 84.50864 84.82868 86.99732 87.84278\n",
      " 86.86142 82.9871  81.81584 82.68218 84.46598 86.79608 85.742   82.65122\n",
      " 82.4741  85.40828 87.49664 88.01684 86.1146  81.22058]\n"
     ]
    },
    {
     "data": {
      "text/plain": [
       "[<matplotlib.lines.Line2D at 0x116f6ea90>]"
      ]
     },
     "execution_count": 31,
     "metadata": {},
     "output_type": "execute_result"
    },
    {
     "data": {
      "image/png": "[encoded data removed]",
      "text/plain": [
       "<Figure size 432x288 with 1 Axes>"
      ]
     },
     "metadata": {
      "needs_background": "light"
     },
     "output_type": "display_data"
    }
   ],
   "source": [
    "septemps = np.where(array_month==9)[0]\n",
    "print(septemps)\n",
    "print(array_temp[septemps])\n",
    "\n",
    "plt.plot(array_temp[septemps])"
   ]
  },
  {
   "cell_type": "code",
   "execution_count": 32,
   "metadata": {},
   "outputs": [
    {
     "name": "stdout",
     "output_type": "stream",
     "text": [
      "[273 274 275 276 277 278 279 280 281 282 283 284 285 286 287 288 289 290\n",
      " 291 292 293 294 295 296 297 298 299 300 301 302 303]\n",
      "[78.8822  78.52742 77.912   81.00422 84.1328  83.74274 78.6752  71.25776\n",
      " 70.8812  75.07196 77.77556 80.02034 80.11574 79.6148  79.76942 78.06356\n",
      " 77.81048 78.55154 77.22278 75.34034 76.4783  79.883   81.18278 81.98846\n",
      " 82.79612 82.79198 77.13836 67.95476 63.36062 61.73684 65.84264]\n"
     ]
    },
    {
     "data": {
      "text/plain": [
       "[<matplotlib.lines.Line2D at 0x1171bad30>]"
      ]
     },
     "execution_count": 32,
     "metadata": {},
     "output_type": "execute_result"
    },
    {
     "data": {
      "image/png": "[encoded data removed]",
      "text/plain": [
       "<Figure size 432x288 with 1 Axes>"
      ]
     },
     "metadata": {
      "needs_background": "light"
     },
     "output_type": "display_data"
    }
   ],
   "source": [
    "octtemps= np.where(array_month==10)[0]\n",
    "\n",
    "print(octtemps)\n",
    "print(array_temp[octtemps])\n",
    "\n",
    "plt.plot(array_temp[octtemps])"
   ]
  },
  {
   "cell_type": "code",
   "execution_count": 33,
   "metadata": {},
   "outputs": [
    {
     "name": "stdout",
     "output_type": "stream",
     "text": [
      "[304 305 306 307 308 309 310 311 312 313 314 315 316 317 318 319 320 321\n",
      " 322 323 324 325 326 327 328 329 330 331 332 333]\n",
      "[69.0029  74.11328 80.4833  79.27388 72.65996 64.59038 58.52042 62.86472\n",
      " 69.10334 73.00646 74.13866 73.58498 67.70636 61.27136 57.81446 61.76924\n",
      " 64.78388 66.51332 67.52258 69.7751  72.2105  72.5093  73.15226 67.83956\n",
      " 61.8119  67.22252 65.00762 60.40664 62.7191  65.81888]\n"
     ]
    },
    {
     "data": {
      "text/plain": [
       "[<matplotlib.lines.Line2D at 0x11711db00>]"
      ]
     },
     "execution_count": 33,
     "metadata": {},
     "output_type": "execute_result"
    },
    {
     "data": {
      "image/png": "[encoded data removed]",
      "text/plain": [
       "<Figure size 432x288 with 1 Axes>"
      ]
     },
     "metadata": {
      "needs_background": "light"
     },
     "output_type": "display_data"
    }
   ],
   "source": [
    "novtemps = np.where(array_month==11)[0]\n",
    "\n",
    "print(novtemps)\n",
    "print(array_temp[novtemps])\n",
    "\n",
    "plt.plot(array_temp[novtemps])"
   ]
  },
  {
   "cell_type": "code",
   "execution_count": 34,
   "metadata": {},
   "outputs": [
    {
     "name": "stdout",
     "output_type": "stream",
     "text": [
      "[334 335 336 337 338 339 340 341 342 343 344 345 346 347 348 349 350 351\n",
      " 352 353 354 355 356 357 358 359 360 361 362 363 364]\n",
      "[69.73586  73.20752  75.10184  75.31262  73.80836  69.34436  67.45418\n",
      " 69.1064   70.80452  71.05382  64.10366  54.1484   57.31298  61.26956\n",
      " 63.04652  63.77696  63.20834  63.14084  66.89942  66.95288  57.851\n",
      " 54.55358  58.1759   60.3521   59.06186  60.7535   53.22914  52.278344\n",
      " 51.798086 50.827562 54.8774  ]\n"
     ]
    },
    {
     "data": {
      "text/plain": [
       "[<matplotlib.lines.Line2D at 0x1173658d0>]"
      ]
     },
     "execution_count": 34,
     "metadata": {},
     "output_type": "execute_result"
    },
    {
     "data": {
      "image/png": "[encoded data removed]",
      "text/plain": [
       "<Figure size 432x288 with 1 Axes>"
      ]
     },
     "metadata": {
      "needs_background": "light"
     },
     "output_type": "display_data"
    }
   ],
   "source": [
    "dectemps = np.where(array_month==12)[0]\n",
    "\n",
    "print(dectemps)\n",
    "print(array_temp[dectemps])\n",
    "\n",
    "plt.plot(array_temp[dectemps])"
   ]
  },
  {
   "cell_type": "code",
   "execution_count": 35,
   "metadata": {},
   "outputs": [
    {
     "data": {
      "text/plain": [
       "90.40809354838711"
      ]
     },
     "execution_count": 35,
     "metadata": {},
     "output_type": "execute_result"
    }
   ],
   "source": [
    "np.mean(array_temp[i_aug])"
   ]
  },
  {
   "cell_type": "code",
   "execution_count": 36,
   "metadata": {
    "scrolled": false
   },
   "outputs": [
    {
     "data": {
      "text/plain": [
       "[<matplotlib.lines.Line2D at 0x117416630>]"
      ]
     },
     "execution_count": 36,
     "metadata": {},
     "output_type": "execute_result"
    },
    {
     "data": {
      "image/png": "[encoded data removed]",
      "text/plain": [
       "<Figure size 432x288 with 1 Axes>"
      ]
     },
     "metadata": {
      "needs_background": "light"
     },
     "output_type": "display_data"
    }
   ],
   "source": [
    "plt.plot(df.Temp) #whole year temperatures, next plot average temperatures"
   ]
  },
  {
   "cell_type": "markdown",
   "metadata": {},
   "source": [
    "# Calculate the averages of monthly temperatures and assign to a variable"
   ]
  },
  {
   "cell_type": "code",
   "execution_count": 63,
   "metadata": {},
   "outputs": [
    {
     "data": {
      "text/plain": [
       "61.92139579999999"
      ]
     },
     "execution_count": 63,
     "metadata": {},
     "output_type": "execute_result"
    }
   ],
   "source": [
    "janmean = np.mean(array_temp[i_jan]) #1\n",
    "janmean"
   ]
  },
  {
   "cell_type": "code",
   "execution_count": 65,
   "metadata": {},
   "outputs": [
    {
     "data": {
      "text/plain": [
       "64.88830793103448"
      ]
     },
     "execution_count": 65,
     "metadata": {},
     "output_type": "execute_result"
    }
   ],
   "source": [
    "febmean = np.mean(array_temp[febtemps]) #2\n",
    "febmean"
   ]
  },
  {
   "cell_type": "code",
   "execution_count": 66,
   "metadata": {},
   "outputs": [
    {
     "data": {
      "text/plain": [
       "78.7006322580645"
      ]
     },
     "execution_count": 66,
     "metadata": {},
     "output_type": "execute_result"
    }
   ],
   "source": [
    "marmean = np.mean(array_temp[martemps]) #3\n",
    "marmean"
   ]
  },
  {
   "cell_type": "code",
   "execution_count": 67,
   "metadata": {},
   "outputs": [
    {
     "data": {
      "text/plain": [
       "80.447672"
      ]
     },
     "execution_count": 67,
     "metadata": {},
     "output_type": "execute_result"
    }
   ],
   "source": [
    "aprmean = np.mean(array_temp[aprtemps]) #4\n",
    "aprmean"
   ]
  },
  {
   "cell_type": "code",
   "execution_count": 68,
   "metadata": {},
   "outputs": [
    {
     "data": {
      "text/plain": [
       "87.24791483870965"
      ]
     },
     "execution_count": 68,
     "metadata": {},
     "output_type": "execute_result"
    }
   ],
   "source": [
    "maymean = np.mean(array_temp[maytemps]) #5\n",
    "maymean"
   ]
  },
  {
   "cell_type": "code",
   "execution_count": 69,
   "metadata": {},
   "outputs": [
    {
     "data": {
      "text/plain": [
       "90.501512"
      ]
     },
     "execution_count": 69,
     "metadata": {},
     "output_type": "execute_result"
    }
   ],
   "source": [
    "junemean = np.mean(array_temp[junetemps]) #6\n",
    "junemean"
   ]
  },
  {
   "cell_type": "code",
   "execution_count": 73,
   "metadata": {},
   "outputs": [
    {
     "data": {
      "text/plain": [
       "96.08917225806451"
      ]
     },
     "execution_count": 73,
     "metadata": {},
     "output_type": "execute_result"
    }
   ],
   "source": [
    "julymean = np.mean(array_temp[julytemps]) #7\n",
    "julymean"
   ]
  },
  {
   "cell_type": "code",
   "execution_count": 71,
   "metadata": {},
   "outputs": [
    {
     "data": {
      "text/plain": [
       "90.40809354838711"
      ]
     },
     "execution_count": 71,
     "metadata": {},
     "output_type": "execute_result"
    }
   ],
   "source": [
    "augmean = np.mean(array_temp[i_aug]) #8\n",
    "augmean"
   ]
  },
  {
   "cell_type": "code",
   "execution_count": 72,
   "metadata": {},
   "outputs": [
    {
     "data": {
      "text/plain": [
       "86.318348"
      ]
     },
     "execution_count": 72,
     "metadata": {},
     "output_type": "execute_result"
    }
   ],
   "source": [
    "sepmean = np.mean(array_temp[septemps]) #9\n",
    "sepmean"
   ]
  },
  {
   "cell_type": "code",
   "execution_count": 74,
   "metadata": {},
   "outputs": [
    {
     "data": {
      "text/plain": [
       "76.95244903225804"
      ]
     },
     "execution_count": 74,
     "metadata": {},
     "output_type": "execute_result"
    }
   ],
   "source": [
    "octmean = np.mean(array_temp[octtemps]) #10\n",
    "octmean"
   ]
  },
  {
   "cell_type": "code",
   "execution_count": 75,
   "metadata": {},
   "outputs": [],
   "source": [
    "novmean = np.mean(array_temp[novtemps]) #11"
   ]
  },
  {
   "cell_type": "code",
   "execution_count": 76,
   "metadata": {},
   "outputs": [
    {
     "data": {
      "text/plain": [
       "62.98540361290323"
      ]
     },
     "execution_count": 76,
     "metadata": {},
     "output_type": "execute_result"
    }
   ],
   "source": [
    "decmean = np.mean(array_temp[dectemps]) #12\n",
    "decmean"
   ]
  },
  {
   "cell_type": "code",
   "execution_count": 77,
   "metadata": {},
   "outputs": [
    {
     "name": "stdout",
     "output_type": "stream",
     "text": [
      "61.92139579999999\n"
     ]
    }
   ],
   "source": [
    "janmean = np.mean(array_temp[i_jan])\n",
    "febmean = np.mean(array_temp[febtemps])\n",
    "marmean = np.mean(array_temp[martemps])\n",
    "print(janmean)"
   ]
  },
  {
   "cell_type": "markdown",
   "metadata": {},
   "source": [
    "# Plot average monthly temperatures"
   ]
  },
  {
   "cell_type": "code",
   "execution_count": 78,
   "metadata": {
    "scrolled": true
   },
   "outputs": [
    {
     "data": {
      "text/plain": [
       "[<matplotlib.lines.Line2D at 0x1175f1ac8>]"
      ]
     },
     "execution_count": 78,
     "metadata": {},
     "output_type": "execute_result"
    },
    {
     "data": {
      "image/png": "[encoded data removed]",
      "text/plain": [
       "<Figure size 432x288 with 1 Axes>"
      ]
     },
     "metadata": {
      "needs_background": "light"
     },
     "output_type": "display_data"
    }
   ],
   "source": [
    "plt.plot([1,2,3],[janmean,febmean,marmean]) #test plotted 3 months"
   ]
  },
  {
   "cell_type": "code",
   "execution_count": 87,
   "metadata": {
    "scrolled": true
   },
   "outputs": [
    {
     "name": "stdout",
     "output_type": "stream",
     "text": [
      "61.92139579999999 64.88830793103448 78.7006322580645 80.447672 87.24791483870965 90.501512 96.08917225806451 90.40809354838711 86.318348 76.95244903225804 67.906562 62.98540361290323\n"
     ]
    },
    {
     "data": {
      "image/png": "[encoded data removed]",
      "text/plain": [
       "<Figure size 432x288 with 1 Axes>"
      ]
     },
     "metadata": {
      "needs_background": "light"
     },
     "output_type": "display_data"
    }
   ],
   "source": [
    "plt.plot([1,2,3,4,5,6,7,8,9,10,11,12],[janmean,febmean,marmean,aprmean,maymean,junemean,julymean,augmean,sepmean,octmean,novmean,decmean])\n",
    "plt.ylabel('Average Temperatures (F)')\n",
    "plt.xlabel('Month')\n",
    "plt.title('Average Monthly Temperatures in Atlanta, Georgia in 2012')\n",
    "print(janmean,febmean,marmean,aprmean,maymean,junemean,julymean,augmean,sepmean,octmean,novmean,decmean)"
   ]
  },
  {
   "cell_type": "code",
   "execution_count": 50,
   "metadata": {},
   "outputs": [
    {
     "name": "stdout",
     "output_type": "stream",
     "text": [
      "0    62.922860\n",
      "1    48.015602\n",
      "2    49.121576\n",
      "Name: Temp, dtype: float64\n"
     ]
    }
   ],
   "source": [
    "print(df.iloc[:3,-1]) #3rd row, last column/temp column"
   ]
  },
  {
   "cell_type": "code",
   "execution_count": 51,
   "metadata": {},
   "outputs": [],
   "source": [
    "#Converted the temperatures from Celsius to Fahrenheit."
   ]
  },
  {
   "cell_type": "code",
   "execution_count": 52,
   "metadata": {},
   "outputs": [],
   "source": [
    "#Calculate the number of days where the maximum daily temperature is above 85 degrees Fahrenheit.\n",
    "#use sum and for loop"
   ]
  },
  {
   "cell_type": "code",
   "execution_count": 53,
   "metadata": {
    "scrolled": false
   },
   "outputs": [
    {
     "data": {
      "text/plain": [
       "147"
      ]
     },
     "execution_count": 53,
     "metadata": {},
     "output_type": "execute_result"
    }
   ],
   "source": [
    "sum(i>85 for i in df.iloc[:,-1])"
   ]
  },
  {
   "cell_type": "code",
   "execution_count": 54,
   "metadata": {},
   "outputs": [],
   "source": [
    "#Find the first and last day of the year when maxmium temperature is at or above 85 degrees Fahrenheit. "
   ]
  },
  {
   "cell_type": "code",
   "execution_count": 55,
   "metadata": {},
   "outputs": [
    {
     "data": {
      "text/plain": [
       "Month     3.00000\n",
       "Day      15.00000\n",
       "Temp     85.77368\n",
       "Name: 73, dtype: float64"
      ]
     },
     "execution_count": 55,
     "metadata": {},
     "output_type": "execute_result"
    }
   ],
   "source": [
    "#first day above 85\n",
    "df.loc[df['Temp'] >85].iloc[0]"
   ]
  },
  {
   "cell_type": "code",
   "execution_count": 56,
   "metadata": {},
   "outputs": [
    {
     "data": {
      "text/plain": [
       "Month     9.0000\n",
       "Day      29.0000\n",
       "Temp     86.1146\n",
       "Name: 271, dtype: float64"
      ]
     },
     "execution_count": 56,
     "metadata": {},
     "output_type": "execute_result"
    }
   ],
   "source": [
    "#last day it went above 85\n",
    "df.loc[df['Temp'] >85].iloc[-1]"
   ]
  },
  {
   "cell_type": "code",
   "execution_count": 57,
   "metadata": {
    "scrolled": true
   },
   "outputs": [
    {
     "name": "stdout",
     "output_type": "stream",
     "text": [
      "     Month  Day       Temp\n",
      "181      7    1  105.94394\n"
     ]
    }
   ],
   "source": [
    "#Highest temp of the year\n",
    "print(df.loc[df['Temp'] == (max(df['Temp']))])\n"
   ]
  },
  {
   "cell_type": "code",
   "execution_count": 58,
   "metadata": {},
   "outputs": [
    {
     "data": {
      "text/plain": [
       "Month\n",
       "7    96.089172\n",
       "Name: Temp, dtype: float64"
      ]
     },
     "execution_count": 58,
     "metadata": {},
     "output_type": "execute_result"
    }
   ],
   "source": [
    "#average temp of July/7\n",
    "(df[df['Month']==7].groupby('Month').mean()['Temp'])"
   ]
  },
  {
   "cell_type": "code",
   "execution_count": 59,
   "metadata": {},
   "outputs": [
    {
     "data": {
      "text/plain": [
       "Month\n",
       "1    61.921396\n",
       "Name: Temp, dtype: float64"
      ]
     },
     "execution_count": 59,
     "metadata": {},
     "output_type": "execute_result"
    }
   ],
   "source": [
    "#average temp of Jan/1\n",
    "(df[df['Month']==1].groupby('Month').mean()['Temp'])"
   ]
  },
  {
   "cell_type": "code",
   "execution_count": 1,
   "metadata": {},
   "outputs": [],
   "source": [
    "#tasks....\n",
    "\n",
    "#for loop, redefine indicies so that average temps line up\n",
    "\n",
    "#average monthly temperatures\n",
    "#plot it using plot or for loop\n",
    "#propose question, only georgia, or add new york city, westchester\n",
    "#how has the number of 85dg plus days increased overtime\n",
    "#changes in temp more extreme in urban settings\n",
    "#seasonality\n",
    "#heat stress season, arbitrary threshold\n",
    "#clean up code, get understanding of basics"
   ]
  },
  {
   "cell_type": "code",
   "execution_count": null,
   "metadata": {},
   "outputs": [],
   "source": []
  }
 ],
 "metadata": {
  "kernelspec": {
   "display_name": "Python 3",
   "language": "python",
   "name": "python3"
  },
  "language_info": {
   "codemirror_mode": {
    "name": "ipython",
    "version": 3
   },
   "file_extension": ".py",
   "mimetype": "text/x-python",
   "name": "python",
   "nbconvert_exporter": "python",
   "pygments_lexer": "ipython3",
   "version": "3.7.3"
  }
 },
 "nbformat": 4,
 "nbformat_minor": 2
}
